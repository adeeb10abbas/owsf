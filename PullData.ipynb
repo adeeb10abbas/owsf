{
 "cells": [
  {
   "cell_type": "code",
   "execution_count": 1,
   "metadata": {},
   "outputs": [],
   "source": [
    "import ee\n",
    "import numpy as np\n",
    "import matplotlib.pyplot as plt\n",
    "\n",
    "ee.Initialize()\n",
    "sentinel1 = ee.ImageCollection('COPERNICUS/S1_GRD')"
   ]
  },
  {
   "cell_type": "code",
   "execution_count": 2,
   "metadata": {},
   "outputs": [],
   "source": [
    "# Define date range\n",
    "start_date = ee.Date('2018-01-01')\n",
    "end_date = start_date.advance(180, 'day')    # 180 days later\n",
    "sentinel1 = sentinel1.filterDate(start_date, end_date)\n",
    "\n",
    "# Grab the VH and VV polarized parts in interferometric\n",
    "# wide swath mode\n",
    "vh = sentinel1.filter(\n",
    "    ee.Filter.listContains('transmitterReceiverPolarisation', 'VV')).filter(\n",
    "    ee.Filter.listContains('transmitterReceiverPolarisation', 'VH')).filter(\n",
    "    ee.Filter.eq('instrumentMode', 'IW'))\n",
    "\n",
    "# Separate data collected when the sat was ascending and descending\n",
    "ascending = vh.filter(ee.Filter.eq('orbitProperties_pass', 'ASCENDING'));\n",
    "descending = vh.filter(ee.Filter.eq('orbitProperties_pass', 'DESCENDING'));\n",
    "\n",
    "# Create a composite from means at different polarizations\n",
    "# and look angles *for visualization*\n",
    "composite = ee.Image.cat([\n",
    "    ascending.select('VH').max(),\n",
    "    descending.select('VH').max(), \n",
    "    ee.ImageCollection(ascending.select('VV').merge(\n",
    "        descending.select('VV'))).max()]).focal_median();\n",
    "\n",
    "# Construct box to generate data for\n",
    "llx = 50.34\n",
    "lly = 24.82\n",
    "urx = 51.96\n",
    "ury = 26.25\n",
    "\n",
    "# centroid = [51.336665, 25.111551]\n",
    "# WIDTH = 2\n",
    "# HEIGHT = 2\n",
    "# llx = centroid[0] - WIDTH / 2\n",
    "# lly = centroid[1] - HEIGHT / 2\n",
    "# urx = centroid[0] + WIDTH / 2\n",
    "# ury = centroid[1] + HEIGHT / 2\n",
    "\n",
    "area = ee.Geometry.Polygon([[llx,lly], [llx,ury], [urx,ury], [urx,lly]])"
   ]
  },
  {
   "cell_type": "code",
   "execution_count": 3,
   "metadata": {},
   "outputs": [],
   "source": [
    "# Grab the region of interest\n",
    "latlon = ee.Image.pixelLonLat().addBands(composite)\n",
    "latlon = latlon.reduceRegion(\n",
    "  reducer=ee.Reducer.toList(),\n",
    "  geometry=area,\n",
    "#   maxPixels=1e8,\n",
    "  scale=200);\n",
    "\n",
    "# Grab each polarization (and latlon data) from the composite\n",
    "vh = np.array((ee.Array(latlon.get(\"VH\")).getInfo()))\n",
    "vv = np.array((ee.Array(latlon.get(\"VV\")).getInfo()))\n",
    "lats = np.array((ee.Array(latlon.get(\"latitude\")).getInfo()))\n",
    "lons = np.array((ee.Array(latlon.get(\"longitude\")).getInfo()))"
   ]
  },
  {
   "cell_type": "code",
   "execution_count": 18,
   "metadata": {},
   "outputs": [],
   "source": [
    "## Get size stuff for plotting\n",
    "\n",
    "# get the unique coordinates\n",
    "uniqueLats = np.unique(lats)\n",
    "uniqueLons = np.unique(lons)\n",
    "\n",
    "# get number of columns and rows from coordinates\n",
    "ncols = len(uniqueLons)    \n",
    "nrows = len(uniqueLats)\n",
    " \n",
    "# determine pixelsizes\n",
    "ys = uniqueLats[1] - uniqueLats[0] \n",
    "xs = uniqueLons[1] - uniqueLons[0]"
   ]
  },
  {
   "cell_type": "code",
   "execution_count": 19,
   "metadata": {},
   "outputs": [
    {
     "data": {
      "image/png": "[encoded data removed]",
      "text/plain": [
       "<Figure size 432x288 with 1 Axes>"
      ]
     },
     "metadata": {
      "needs_background": "light"
     },
     "output_type": "display_data"
    }
   ],
   "source": [
    "## Plot VH polarized data\n",
    "\n",
    "# create an array with dimensions of image\n",
    "vh_arr = np.zeros([nrows, ncols], np.float32) #-9999\n",
    " \n",
    "# fill the array with values\n",
    "counter = 0\n",
    "for y in range(0,len(vh_arr),1):\n",
    "    for x in range(0,len(vh_arr[0]),1):\n",
    "        if lats[counter] == uniqueLats[y] and lons[counter] == uniqueLons[x] and counter < len(lats)-1:\n",
    "            counter += 1\n",
    "            vh_arr[len(uniqueLats)-1-y,x] = vh[counter] # we start from lower left corner\n",
    "\n",
    "# Plot VH\n",
    "plt.imshow(vh_arr)\n",
    "plt.show()"
   ]
  },
  {
   "cell_type": "code",
   "execution_count": 6,
   "metadata": {},
   "outputs": [
    {
     "data": {
      "image/png": "[encoded data removed]",
      "text/plain": [
       "<Figure size 432x288 with 1 Axes>"
      ]
     },
     "metadata": {
      "needs_background": "light"
     },
     "output_type": "display_data"
    }
   ],
   "source": [
    "## Plot VV polarized data\n",
    "\n",
    "# create an array with dimensions of image\n",
    "vv_arr = np.zeros([nrows, ncols], np.float32) #-9999\n",
    " \n",
    "# fill the array with values\n",
    "counter =0\n",
    "for y in range(0,len(vv_arr),1):\n",
    "    for x in range(0,len(vv_arr[0]),1):\n",
    "        if lats[counter] == uniqueLats[y] and lons[counter] == uniqueLons[x] and counter < len(lats)-1:\n",
    "            counter+=1\n",
    "            vv_arr[len(uniqueLats)-1-y,x] = vv[counter] # we start from lower left corner\n",
    "\n",
    "# Plot VV\n",
    "plt.imshow(vv_arr)\n",
    "plt.show()"
   ]
  },
  {
   "cell_type": "code",
   "execution_count": 7,
   "metadata": {},
   "outputs": [],
   "source": [
    "# Save to file\n",
    "vh_arr.tofile('vh.out')\n",
    "vv_arr.tofile('vv.out')"
   ]
  },
  {
   "cell_type": "code",
   "execution_count": 9,
   "metadata": {},
   "outputs": [
    {
     "data": {
      "text/plain": [
       "(1116, 1113)"
      ]
     },
     "execution_count": 9,
     "metadata": {},
     "output_type": "execute_result"
    }
   ],
   "source": [
    "vh_arr.shape"
   ]
  },
  {
   "cell_type": "code",
   "execution_count": 15,
   "metadata": {},
   "outputs": [
    {
     "data": {
      "text/plain": [
       "1116"
      ]
     },
     "execution_count": 15,
     "metadata": {},
     "output_type": "execute_result"
    }
   ],
   "source": [
    "nrows"
   ]
  },
  {
   "cell_type": "code",
   "execution_count": 16,
   "metadata": {},
   "outputs": [
    {
     "data": {
      "text/plain": [
       "1113"
      ]
     },
     "execution_count": 16,
     "metadata": {},
     "output_type": "execute_result"
    }
   ],
   "source": [
    "ncols"
   ]
  },
  {
   "cell_type": "code",
   "execution_count": 17,
   "metadata": {},
   "outputs": [
    {
     "ename": "ValueError",
     "evalue": "cannot reshape array of size 1238989 into shape (1116,1113)",
     "output_type": "error",
     "traceback": [
      "\u001b[0;31m---------------------------------------------------------------------------\u001b[0m",
      "\u001b[0;31mValueError\u001b[0m                                Traceback (most recent call last)",
      "\u001b[0;32m<ipython-input-17-700e03a0b420>\u001b[0m in \u001b[0;36m<module>\u001b[0;34m\u001b[0m\n\u001b[0;32m----> 1\u001b[0;31m \u001b[0mreshaped\u001b[0m \u001b[0;34m=\u001b[0m \u001b[0mvh\u001b[0m\u001b[0;34m.\u001b[0m\u001b[0mreshape\u001b[0m\u001b[0;34m(\u001b[0m\u001b[0;34m(\u001b[0m\u001b[0mnrows\u001b[0m\u001b[0;34m,\u001b[0m \u001b[0mncols\u001b[0m\u001b[0;34m)\u001b[0m\u001b[0;34m)\u001b[0m\u001b[0;34m\u001b[0m\u001b[0;34m\u001b[0m\u001b[0m\n\u001b[0m",
      "\u001b[0;31mValueError\u001b[0m: cannot reshape array of size 1238989 into shape (1116,1113)"
     ]
    }
   ],
   "source": [
    "reshaped = vh.reshape((nrows, ncols))"
   ]
  },
  {
   "cell_type": "code",
   "execution_count": 22,
   "metadata": {},
   "outputs": [],
   "source": [
    "imvh = composite.get('VH')"
   ]
  },
  {
   "cell_type": "code",
   "execution_count": 25,
   "metadata": {},
   "outputs": [
    {
     "data": {
      "text/plain": [
       "array(<ee.computedobject.ComputedObject object at 0x7f932df20b38>,\n",
       "      dtype=object)"
      ]
     },
     "execution_count": 25,
     "metadata": {},
     "output_type": "execute_result"
    }
   ],
   "source": [
    "imvh)"
   ]
  },
  {
   "cell_type": "code",
   "execution_count": 26,
   "metadata": {},
   "outputs": [],
   "source": [
    "latlon = ee.Image.pixelLonLat().addBands(composite)"
   ]
  },
  {
   "cell_type": "code",
   "execution_count": 30,
   "metadata": {},
   "outputs": [],
   "source": [
    "llvhinfo = latlon.get('VH').getInfo()"
   ]
  },
  {
   "cell_type": "code",
   "execution_count": 32,
   "metadata": {},
   "outputs": [
    {
     "data": {
      "text/plain": [
       "NoneType"
      ]
     },
     "execution_count": 32,
     "metadata": {},
     "output_type": "execute_result"
    }
   ],
   "source": [
    "type(llvhinfo)"
   ]
  },
  {
   "cell_type": "code",
   "execution_count": 7,
   "metadata": {},
   "outputs": [],
   "source": [
    "geometry = [[llx,lly], [llx,ury], [urx,ury], [urx,lly]]\n",
    "\n",
    "task_config = {\n",
    "#     'description': 'vhExport',\n",
    "    'scale': 200,  \n",
    "    'region': geometry\n",
    "    }\n",
    "\n",
    "task = ee.batch.Export.image(composite, 'vhExport', task_config)\n",
    "\n",
    "task.start()"
   ]
  },
  {
   "cell_type": "code",
   "execution_count": null,
   "metadata": {},
   "outputs": [],
   "source": []
  }
 ],
 "metadata": {
  "kernelspec": {
   "display_name": "Python 3",
   "language": "python",
   "name": "python3"
  },
  "language_info": {
   "codemirror_mode": {
    "name": "ipython",
    "version": 3
   },
   "file_extension": ".py",
   "mimetype": "text/x-python",
   "name": "python",
   "nbconvert_exporter": "python",
   "pygments_lexer": "ipython3",
   "version": "3.7.0"
  }
 },
 "nbformat": 4,
 "nbformat_minor": 2
}
