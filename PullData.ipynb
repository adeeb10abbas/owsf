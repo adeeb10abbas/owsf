{
 "cells": [
  {
   "cell_type": "code",
   "execution_count": 1,
   "metadata": {},
   "outputs": [],
   "source": [
    "import ee\n",
    "import numpy as np\n",
    "import matplotlib.pyplot as plt\n",
    "\n",
    "ee.Initialize()\n",
    "sentinel1 = ee.ImageCollection('COPERNICUS/S1_GRD')"
   ]
  },
  {
   "cell_type": "code",
   "execution_count": 2,
   "metadata": {},
   "outputs": [],
   "source": [
    "# Define date range\n",
    "start_date = ee.Date('2018-01-01')\n",
    "end_date = start_date.advance(180, 'day')    # 180 days later\n",
    "sentinel1 = sentinel1.filterDate(start_date, end_date)"
   ]
  },
  {
   "cell_type": "code",
   "execution_count": 3,
   "metadata": {},
   "outputs": [],
   "source": [
    "# Grab the VH and VV polarized parts in interferometric\n",
    "# wide swath mode\n",
    "vh = sentinel1.filter(\n",
    "    ee.Filter.listContains('transmitterReceiverPolarisation', 'VV')).filter(\n",
    "    ee.Filter.listContains('transmitterReceiverPolarisation', 'VH')).filter(\n",
    "    ee.Filter.eq('instrumentMode', 'IW'))"
   ]
  },
  {
   "cell_type": "code",
   "execution_count": 4,
   "metadata": {},
   "outputs": [],
   "source": [
    "# Separate data collected when the sat was ascending and descending\n",
    "ascending = vh.filter(ee.Filter.eq('orbitProperties_pass', 'ASCENDING'));\n",
    "descending = vh.filter(ee.Filter.eq('orbitProperties_pass', 'DESCENDING'));"
   ]
  },
  {
   "cell_type": "code",
   "execution_count": 5,
   "metadata": {},
   "outputs": [],
   "source": [
    "# Create a composite from means at different polarizations\n",
    "# and look angles *for visualization*\n",
    "composite = ee.Image.cat([\n",
    "    ascending.select('VH').max(),\n",
    "    descending.select('VH').max(), \n",
    "    ee.ImageCollection(ascending.select('VV').merge(\n",
    "        descending.select('VV'))).max()]).focal_median(); "
   ]
  },
  {
   "cell_type": "code",
   "execution_count": 6,
   "metadata": {},
   "outputs": [],
   "source": [
    "# Construct box to generate data for\n",
    "centroid = [51.336665, 25.111551]\n",
    "WIDTH = 0.1\n",
    "HEIGHT = 0.1\n",
    "llx = centroid[0] - WIDTH / 2\n",
    "lly = centroid[1] - HEIGHT / 2\n",
    "urx = centroid[0] + WIDTH / 2\n",
    "ury = centroid[1] + HEIGHT / 2\n",
    "area = ee.Geometry.Polygon([[llx,lly], [llx,ury], [urx,ury], [urx,lly]])"
   ]
  },
  {
   "cell_type": "code",
   "execution_count": 7,
   "metadata": {},
   "outputs": [],
   "source": [
    "latlon = ee.Image.pixelLonLat().addBands(composite)\n",
    "latlon = latlon.reduceRegion(\n",
    "  reducer=ee.Reducer.toList(),\n",
    "  geometry=area,\n",
    "  maxPixels=1e8,\n",
    "  scale=20);"
   ]
  },
  {
   "cell_type": "code",
   "execution_count": null,
   "metadata": {},
   "outputs": [],
   "source": [
    "vh = np.array((ee.Array(latlon.get(\"VH\")).getInfo()))\n",
    "vv = np.array((ee.Array(latlon.get(\"VV\")).getInfo()))\n",
    "lats = np.array((ee.Array(latlon.get(\"latitude\")).getInfo()))\n",
    "lons = np.array((ee.Array(latlon.get(\"longitude\")).getInfo()))"
   ]
  },
  {
   "cell_type": "code",
   "execution_count": null,
   "metadata": {},
   "outputs": [],
   "source": [
    "# get the unique coordinates\n",
    "uniqueLats = np.unique(lats)\n",
    "uniqueLons = np.unique(lons)\n",
    " \n",
    "# get number of columns and rows from coordinates\n",
    "ncols = len(uniqueLons)    \n",
    "nrows = len(uniqueLats)\n",
    " \n",
    "# determine pixelsizes\n",
    "ys = uniqueLats[1] - uniqueLats[0] \n",
    "xs = uniqueLons[1] - uniqueLons[0]\n",
    " \n",
    "# create an array with dimensions of image\n",
    "vh_arr = np.zeros([nrows, ncols], np.float32) #-9999\n",
    " \n",
    "# fill the array with values\n",
    "counter =0\n",
    "for y in range(0,len(arr),1):\n",
    "    for x in range(0,len(arr[0]),1):\n",
    "        if lats[counter] == uniqueLats[y] and lons[counter] == uniqueLons[x] and counter < len(lats)-1:\n",
    "            counter+=1\n",
    "            vh_arr[len(uniqueLats)-1-y,x] = vh[counter] # we start from lower left corner\n",
    "\n",
    "# Plot VH\n",
    "plt.imshow(vh_arr)\n",
    "plt.show()"
   ]
  },
  {
   "cell_type": "code",
   "execution_count": null,
   "metadata": {},
   "outputs": [],
   "source": [
    "# create an array with dimensions of image\n",
    "vv_arr = np.zeros([nrows, ncols], np.float32) #-9999\n",
    " \n",
    "# fill the array with values\n",
    "counter =0\n",
    "for y in range(0,len(arr),1):\n",
    "    for x in range(0,len(arr[0]),1):\n",
    "        if lats[counter] == uniqueLats[y] and lons[counter] == uniqueLons[x] and counter < len(lats)-1:\n",
    "            counter+=1\n",
    "            vv_arr[len(uniqueLats)-1-y,x] = vv[counter] # we start from lower left corner\n",
    "\n",
    "# Plot VV\n",
    "plt.imshow(vv_arr)\n",
    "plt.show()"
   ]
  },
  {
   "cell_type": "code",
   "execution_count": null,
   "metadata": {},
   "outputs": [],
   "source": [
    "vh_arr.tofile('vh.out')\n",
    "vv_arr.tofile('vv.out')"
   ]
  }
 ],
 "metadata": {
  "kernelspec": {
   "display_name": "Python 3",
   "language": "python",
   "name": "python3"
  },
  "language_info": {
   "codemirror_mode": {
    "name": "ipython",
    "version": 3
   },
   "file_extension": ".py",
   "mimetype": "text/x-python",
   "name": "python",
   "nbconvert_exporter": "python",
   "pygments_lexer": "ipython3",
   "version": "3.6.7"
  }
 },
 "nbformat": 4,
 "nbformat_minor": 2
}
