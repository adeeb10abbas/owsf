{
 "cells": [
  {
   "cell_type": "code",
   "execution_count": 1,
   "metadata": {},
   "outputs": [],
   "source": [
    "import ee\n",
    "import numpy as np\n",
    "import matplotlib.pyplot as plt\n",
    "\n",
    "ee.Initialize()\n",
    "sentinel1 = ee.ImageCollection('COPERNICUS/S1_GRD')"
   ]
  },
  {
   "cell_type": "code",
   "execution_count": 3,
   "metadata": {},
   "outputs": [],
   "source": [
    "# Define date range\n",
    "start_date = ee.Date('2018-01-01')\n",
    "end_date = start_date.advance(180, 'day')    # 180 days later\n",
    "sentinel1 = sentinel1.filterDate(start_date, end_date)\n",
    "\n",
    "# Grab the VH and VV polarized parts in interferometric\n",
    "# wide swath mode\n",
    "vh = sentinel1.filter(\n",
    "    ee.Filter.listContains('transmitterReceiverPolarisation', 'VV')).filter(\n",
    "    ee.Filter.listContains('transmitterReceiverPolarisation', 'VH')).filter(\n",
    "    ee.Filter.eq('instrumentMode', 'IW'))\n",
    "\n",
    "# Separate data collected when the sat was ascending and descending\n",
    "ascending = vh.filter(ee.Filter.eq('orbitProperties_pass', 'ASCENDING'));\n",
    "descending = vh.filter(ee.Filter.eq('orbitProperties_pass', 'DESCENDING'));\n",
    "\n",
    "# Create a composite from means at different polarizations\n",
    "# and look angles *for visualization*\n",
    "composite_max = ee.Image.cat([\n",
    "    ascending.select('VH').max(),\n",
    "    descending.select('VH').max(), \n",
    "    ee.ImageCollection(ascending.select('VV').merge(\n",
    "        descending.select('VV'))).max()]).focal_median();\n",
    "\n",
    "composite_min = ee.Image.cat([\n",
    "    ascending.select('VH').min(),\n",
    "    descending.select('VH').min(), \n",
    "    ee.ImageCollection(ascending.select('VV').merge(\n",
    "        descending.select('VV'))).min()]).focal_median();"
   ]
  },
  {
   "cell_type": "code",
   "execution_count": 6,
   "metadata": {},
   "outputs": [
    {
     "name": "stdout",
     "output_type": "stream",
     "text": [
      "Help on function cat in module ee.image:\n",
      "\n",
      "cat(*args)\n",
      "    Concatenate the given images together into a single image.\n",
      "\n"
     ]
    }
   ],
   "source": [
    "# type(ascending)\n",
    "help(ee.Image.cat)"
   ]
  },
  {
   "cell_type": "code",
   "execution_count": 4,
   "metadata": {},
   "outputs": [],
   "source": [
    "places = {'Middle East': [41.137081, 28.780227, 28.934843, 48.239208]}\n",
    "#           'Europe': [59.084463, 4.23123, 52.82251, 20.086696],\n",
    "#           'Asia': [36.594309, 70.724632, 31.724374, 77.000019],\n",
    "#           'North America': [30.322289, -84.243317, 21.169193, -75.04117]}\n",
    "\n",
    "for place in places:\n",
    "    rep = places[place]\n",
    "    \n",
    "    llx = rep[2]\n",
    "    lly = rep[1]\n",
    "    urx = rep[0]\n",
    "    ury = rep[3]\n",
    "    geometry = [[llx,lly], [llx,ury], [urx,ury], [urx,lly]]\n",
    "    \n",
    "    task_config = {\n",
    "    'scale': 500,\n",
    "    'region': geometry\n",
    "    }\n",
    "\n",
    "    task = ee.batch.Export.image(composite_max, place, task_config)\n",
    "    task.start()"
   ]
  }
 ],
 "metadata": {
  "kernelspec": {
   "display_name": "Python 3",
   "language": "python",
   "name": "python3"
  },
  "language_info": {
   "codemirror_mode": {
    "name": "ipython",
    "version": 3
   },
   "file_extension": ".py",
   "mimetype": "text/x-python",
   "name": "python",
   "nbconvert_exporter": "python",
   "pygments_lexer": "ipython3",
   "version": "3.7.0"
  }
 },
 "nbformat": 4,
 "nbformat_minor": 2
}
