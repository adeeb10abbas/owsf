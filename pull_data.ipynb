{
 "cells": [
  {
   "cell_type": "code",
   "execution_count": 8,
   "metadata": {},
   "outputs": [],
   "source": [
    "import ee\n",
    "import numpy as np\n",
    "import matplotlib.pyplot as plt\n",
    "\n",
    "ee.Initialize()\n",
    "sentinel1 = ee.ImageCollection('COPERNICUS/S1_GRD')"
   ]
  },
  {
   "cell_type": "code",
   "execution_count": 9,
   "metadata": {},
   "outputs": [],
   "source": [
    "# Define date range\n",
    "start_date = ee.Date('2018-01-01')\n",
    "end_date = start_date.advance(180, 'day')    # 180 days later\n",
    "sentinel1 = sentinel1.filterDate(start_date, end_date)\n",
    "\n",
    "# Grab the VH and VV polarized parts in interferometric\n",
    "# wide swath mode\n",
    "vh = sentinel1.filter(\n",
    "    ee.Filter.listContains('transmitterReceiverPolarisation', 'VV')).filter(\n",
    "    ee.Filter.listContains('transmitterReceiverPolarisation', 'VH')).filter(\n",
    "    ee.Filter.eq('instrumentMode', 'IW'))\n",
    "\n",
    "# Separate data collected when the sat was ascending and descending\n",
    "ascending = vh.filter(ee.Filter.eq('orbitProperties_pass', 'ASCENDING'));\n",
    "descending = vh.filter(ee.Filter.eq('orbitProperties_pass', 'DESCENDING'));\n",
    "\n",
    "# Create a composite from means at different polarizations\n",
    "# and look angles *for visualization*\n",
    "composite = ee.Image.cat([\n",
    "    ascending.select('VH').max(),\n",
    "    descending.select('VH').max(), \n",
    "    ee.ImageCollection(ascending.select('VV').merge(\n",
    "        descending.select('VV'))).max()]).focal_median();"
   ]
  },
  {
   "cell_type": "code",
   "execution_count": 10,
   "metadata": {},
   "outputs": [],
   "source": [
    "llx = 49\n",
    "lly = 24\n",
    "urx = 52\n",
    "ury = 27\n",
    "geometry = [[llx,lly], [llx,ury], [urx,ury], [urx,lly]]\n",
    "\n",
    "task_config = {\n",
    "    'scale': 200,  \n",
    "    'region': geometry\n",
    "    }\n",
    "\n",
    "task = ee.batch.Export.image(composite, 'vhExport', task_config)\n",
    "task.start()"
   ]
  },
  {
   "cell_type": "code",
   "execution_count": null,
   "metadata": {},
   "outputs": [],
   "source": []
  }
 ],
 "metadata": {
  "kernelspec": {
   "display_name": "Python 3",
   "language": "python",
   "name": "python3"
  },
  "language_info": {
   "codemirror_mode": {
    "name": "ipython",
    "version": 3
   },
   "file_extension": ".py",
   "mimetype": "text/x-python",
   "name": "python",
   "nbconvert_exporter": "python",
   "pygments_lexer": "ipython3",
   "version": "3.7.0"
  }
 },
 "nbformat": 4,
 "nbformat_minor": 2
}
