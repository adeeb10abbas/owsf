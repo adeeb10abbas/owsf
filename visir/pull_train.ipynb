{
 "cells": [
  {
   "cell_type": "code",
   "execution_count": 5,
   "metadata": {},
   "outputs": [],
   "source": [
    "import ee\n",
    "import numpy as np\n",
    "import matplotlib.pyplot as plt\n",
    "\n",
    "ee.Initialize()"
   ]
  },
  {
   "cell_type": "code",
   "execution_count": 6,
   "metadata": {},
   "outputs": [],
   "source": [
    "rgb_data = ee.ImageCollection('COPERNICUS/S2').filterDate('2018-01-01', '2018-06-30').filter(ee.Filter.lt('CLOUDY_PIXEL_PERCENTAGE', 20))\n",
    "ir_data = ee.ImageCollection('LANDSAT/LC08/C01/T1').filterDate('2017-01-01', '2017-12-31')\n",
    "\n",
    "# Map.addLayer(dataset.select(['B6', 'B7', 'B10']), trueColor432Vis, 'True Color (432)');\n",
    "# Map.addLayer(dataset.select(['B4', 'B3', 'B2']), rgbVis, 'RGB');"
   ]
  },
  {
   "cell_type": "code",
   "execution_count": null,
   "metadata": {},
   "outputs": [],
   "source": [
    "# Parse places"
   ]
  },
  {
   "cell_type": "code",
   "execution_count": null,
   "metadata": {},
   "outputs": [],
   "source": [
    "for place in places:\n",
    "    rep = places[place]\n",
    "    \n",
    "    llx = rep[2]\n",
    "    lly = rep[1]\n",
    "    urx = rep[0]\n",
    "    ury = rep[3]\n",
    "    geometry = [[llx,lly], [llx,ury], [urx,ury], [urx,lly]]\n",
    "    \n",
    "    task_config = {\n",
    "    'scale': 500,\n",
    "    'region': geometry\n",
    "    }\n",
    "\n",
    "    rgb_task = ee.batch.Export.image(rgb_data, f'rgb_{place}.tif', task_config)\n",
    "    rgb_task.start()\n",
    "    \n",
    "    ir_task = ee.batch.Export.image(ir_data, f'ir_{place}.tif', task_config)\n",
    "    ir_task.start()"
   ]
  }
 ],
 "metadata": {
  "kernelspec": {
   "display_name": "Python 3",
   "language": "python",
   "name": "python3"
  },
  "language_info": {
   "codemirror_mode": {
    "name": "ipython",
    "version": 3
   },
   "file_extension": ".py",
   "mimetype": "text/x-python",
   "name": "python",
   "nbconvert_exporter": "python",
   "pygments_lexer": "ipython3",
   "version": "3.7.0"
  }
 },
 "nbformat": 4,
 "nbformat_minor": 2
}
