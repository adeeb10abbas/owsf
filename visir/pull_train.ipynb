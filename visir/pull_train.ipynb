{
 "cells": [
  {
   "cell_type": "code",
   "execution_count": 54,
   "metadata": {},
   "outputs": [],
   "source": [
    "import ee\n",
    "import numpy as np\n",
    "import matplotlib.pyplot as plt\n",
    "import pandas as pd\n",
    "\n",
    "ee.Initialize()"
   ]
  },
  {
   "cell_type": "code",
   "execution_count": 55,
   "metadata": {},
   "outputs": [],
   "source": [
    "rgb_col = ee.ImageCollection('COPERNICUS/S2').filterDate('2018-01-01', '2018-06-30').filter(ee.Filter.lt('CLOUDY_PIXEL_PERCENTAGE', 20))\n",
    "ir_col = ee.ImageCollection('LANDSAT/LC08/C01/T1').filterDate('2017-01-01', '2017-12-31')\n",
    "\n",
    "rgb_data = ee.Image.cat([rgb_col.select('B6').mean(), rgb_col.select('B7').mean(), rgb_col.select('B10').mean()])\n",
    "ir_data = ee.Image.cat([ir_col.select('B4').mean(), ir_col.select('B3').mean(), ir_col.select('B2').mean()])"
   ]
  },
  {
   "cell_type": "code",
   "execution_count": 56,
   "metadata": {},
   "outputs": [
    {
     "name": "stdout",
     "output_type": "stream",
     "text": [
      "{'t001': array([-59.59009009,  31.00990991, -59.40990991,  31.19009009]), 't002': array([-52.59009009,  37.00990991, -52.40990991,  37.19009009]), 't004': array([-59.49009009,  32.00990991, -59.30990991,  32.19009009])}\n"
     ]
    }
   ],
   "source": [
    "# Parse places\n",
    "p_df = pd.read_csv('../data/targets.csv')\n",
    "places = {}\n",
    "\n",
    "WIDTH = 10 / 111\n",
    "\n",
    "for index, row in p_df.iterrows():\n",
    "    places[row['name']] = np.array([row['lat'] - WIDTH, row['lon'] - WIDTH, row['lat'] + WIDTH, row['lon'] + WIDTH])\n",
    "    \n",
    "print(places)"
   ]
  },
  {
   "cell_type": "code",
   "execution_count": 57,
   "metadata": {},
   "outputs": [
    {
     "name": "stdout",
     "output_type": "stream",
     "text": [
      "t001\n",
      "t002\n",
      "t004\n"
     ]
    }
   ],
   "source": [
    "for place in places:\n",
    "    print(place)\n",
    "    rep = places[place]\n",
    "    \n",
    "    llx = rep[0]\n",
    "    lly = rep[1]\n",
    "    urx = rep[2]\n",
    "    ury = rep[3]\n",
    "    geometry = [[llx,lly], [llx,ury], [urx,ury], [urx,lly]]\n",
    "    \n",
    "    rgb_task = ee.batch.Export.image.toDrive(rgb_data, description=f'rgb_{place}', scale=500, region=geometry)\n",
    "    rgb_task.start()\n",
    "    \n",
    "    ir_task = ee.batch.Export.image.toDrive(ir_data, description=f'ir_{place}', scale=500, region=geometry)\n",
    "    ir_task.start()\n",
    "\n",
    "print('Done')"
   ]
  }
 ],
 "metadata": {
  "kernelspec": {
   "display_name": "Python 3",
   "language": "python",
   "name": "python3"
  },
  "language_info": {
   "codemirror_mode": {
    "name": "ipython",
    "version": 3
   },
   "file_extension": ".py",
   "mimetype": "text/x-python",
   "name": "python",
   "nbconvert_exporter": "python",
   "pygments_lexer": "ipython3",
   "version": "3.7.0"
  }
 },
 "nbformat": 4,
 "nbformat_minor": 2
}
