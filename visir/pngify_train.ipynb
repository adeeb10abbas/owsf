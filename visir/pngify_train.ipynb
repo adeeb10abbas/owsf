{
 "cells": [
  {
   "cell_type": "code",
   "execution_count": null,
   "metadata": {},
   "outputs": [],
   "source": [
    "import ee\n",
    "import numpy as np\n",
    "import matplotlib\n",
    "\n",
    "ee.Initialize()"
   ]
  },
  {
   "cell_type": "code",
   "execution_count": null,
   "metadata": {},
   "outputs": [],
   "source": [
    "# Parse places\n",
    "p_df = pd.read_csv('../data/targets.csv')\n",
    "places = {}\n",
    "\n",
    "WIDTH = 10 / 111\n",
    "\n",
    "for index, row in p_df.iterrows():\n",
    "    places[row['name']] = np.array([row['lat'] - WIDTH, row['lon'] - WIDTH, row['lat'] + WIDTH, row['lon'] + WIDTH])\n",
    "    \n",
    "print(places)"
   ]
  },
  {
   "cell_type": "code",
   "execution_count": null,
   "metadata": {},
   "outputs": [],
   "source": [
    "for place in places:\n",
    "    rgb_ds = gdal.Open(f'./data/rgb_{place}.tif')\n",
    "    ir_ds = gdal.Open(f'./data/ir_{place}.tif')\n",
    "    \n",
    "    r = rgb_ds.GetRasterBand(1).ReadAsArray()\n",
    "    g = rgb_ds.GetRasterBand(2).ReadAsArray()\n",
    "    b = rgb_ds.GetRasterBand(3).ReadAsArray()\n",
    "    rgb = np.array([r, g, b])\n",
    "    \n",
    "    ir1 = ir_ds.GetRasterBand(1).ReadAsArray()\n",
    "    ir2 = ir_ds.GetRasterBand(2).ReadAsArray()\n",
    "    therm = ir_ds.GetRasterBand(3).ReadAsArray()\n",
    "    ir = np.array([ir1, ir2, therm])\n",
    "    \n",
    "    for i in range(3):\n",
    "        # Strip NaNs (I think these appear where data is redacted)\n",
    "        rgb[i][np.isnan(rgb[i])]=np.median(rgb[i][np.isfinite(rgb[i])])-np.std(rgb[i][np.isfinite(rgb[i])])\n",
    "        ir[i][np.isnan(ir[i])]=np.median(ir[i][np.isfinite(ir[i])])-np.std(ir[i][np.isfinite(ir[i])])\n",
    "        \n",
    "        # Scale to [0, 255]\n",
    "        rgb[i] = rgb[i] - np.min(rgb[i])\n",
    "        rgb[i] = rgb[i] / np.max(rgb[i]) * 255\n",
    "        ir[i] = ir[i] - np.min(ir[i])\n",
    "        ir[i] = ir[i] / np.max(ir[i]) * 255\n",
    "        \n",
    "    # Plot\n",
    "    matplotlib.image.imsave(f'rgb_{place}.png', rgb)\n",
    "    matplotlib.image.imsave(f'ir_{place}.png', ir)"
   ]
  }
 ],
 "metadata": {
  "kernelspec": {
   "display_name": "Python 3",
   "language": "python",
   "name": "python3"
  },
  "language_info": {
   "codemirror_mode": {
    "name": "ipython",
    "version": 3
   },
   "file_extension": ".py",
   "mimetype": "text/x-python",
   "name": "python",
   "nbconvert_exporter": "python",
   "pygments_lexer": "ipython3",
   "version": "3.7.0"
  }
 },
 "nbformat": 4,
 "nbformat_minor": 2
}
